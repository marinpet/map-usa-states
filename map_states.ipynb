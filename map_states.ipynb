{
 "cells": [
  {
   "cell_type": "code",
   "execution_count": null,
   "metadata": {},
   "outputs": [],
   "source": [
    "#Import Earth engine\n",
    "import ee\n",
    "\n",
    "#Trigger the authentication flow\n",
    "ee.Authenticate()\n",
    "\n",
    "#Initialize the library\n",
    "ee.Initialize()"
   ]
  }
 ],
 "metadata": {
  "language_info": {
   "name": "python"
  }
 },
 "nbformat": 4,
 "nbformat_minor": 2
}
